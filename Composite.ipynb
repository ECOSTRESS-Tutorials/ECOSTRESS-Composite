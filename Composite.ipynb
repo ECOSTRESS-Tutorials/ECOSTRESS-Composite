{
 "cells": [
  {
   "cell_type": "markdown",
   "metadata": {},
   "source": [
    "# Creating a Composite Image\n",
    "### ECOSTRESS Tutorials\n",
    "###### This code is to be used when you have a collection of images that you would like to make a composite of. It works best if you have already cloud masked or QCed your images (See the cloud masking and QC tutorials). \n",
    "###### This code is written to make a composite of Land Surface Temperature (LST) files, but may be modified for use with other ECOSTRESS data products."
   ]
  },
  {
   "cell_type": "markdown",
   "metadata": {},
   "source": [
    "### Import Necessary Libraries"
   ]
  },
  {
   "cell_type": "code",
   "execution_count": null,
   "metadata": {},
   "outputs": [],
   "source": [
    "import os\n",
    "from os import makedirs\n",
    "import numpy as np\n",
    "import pandas as pd\n",
    "import rioxarray\n",
    "import rioxarray.merge\n",
    "from glob import glob\n",
    "from os.path import join, basename, splitext\n",
    "from datetime import datetime\n",
    "import hvplot.xarray\n"
   ]
  },
  {
   "cell_type": "markdown",
   "metadata": {},
   "source": [
    "### Define Input and Output Locations, and List Files"
   ]
  },
  {
   "cell_type": "code",
   "execution_count": null,
   "metadata": {},
   "outputs": [],
   "source": [
    "#Define input and output folders\n",
    "#Replace with the path to the folder with the images you want to make composites of\n",
    "input_directory = r\"Replace_this_text_with_folder_path\" \n",
    "# Replace with the path to the folder wheree you want the composite images to be saved\n",
    "output_directory = r\"Replace_this_text_with_folder_path\" \n",
    "#This line makes sure that the output directory exists \n",
    "makedirs(output_directory, exist_ok=True)\n",
    "\n",
    "#Set aesthetics \n",
    "alpha = 0.7 #Sets the transparency of the image to 70%\n",
    "fig_width_px = 1080 #Defines the size of the figure\n",
    "fig_height_px = 720\n",
    "\n",
    "# Find all masked ST files in the output directory\n",
    "ST_masked_filenames = sorted(glob(join(input_directory, \"*_ST.tif\")))"
   ]
  },
  {
   "cell_type": "markdown",
   "metadata": {},
   "source": [
    "### Create a Median Composite of the Images"
   ]
  },
  {
   "cell_type": "code",
   "execution_count": null,
   "metadata": {},
   "outputs": [],
   "source": [
    "#Opens the rasters using rioxarray\n",
    "ST_masked_rasters = [rioxarray.open_rasterio(filename).squeeze(\"band\", drop=True) for filename in ST_masked_filenames]\n",
    "#Merges all the rasters into one array\n",
    "ST_composite = rioxarray.merge.merge_arrays(ST_masked_rasters, nodata=np.nan)\n",
    "#Calculates the median for each pixel\n",
    "ST_composite.data = np.nanmedian(np.stack([raster.rio.reproject_match(ST_composite).data for raster in ST_masked_rasters]), axis=0)\n",
    "#Replaces 0s with NaN\n",
    "ST_composite.data = np.where(ST_composite.data == 0, np.nan, ST_composite.data)\n",
    "#Create an output file path by combining the output folder loation with a file name\n",
    "#Can replace the part in quotations with your own file name, make sure to wrap in quotes and add .tif\n",
    "output_file_path = join(output_directory, \"Replace_this_text_with_file_name.tif\")\n",
    "#Saves the Composite Raster\n",
    "ST_composite.rio.to_raster(output_file_path)\n",
    "#Reprojects the data and plots it\n",
    "ST_composite.rio.reproject(\"EPSG:4326\").hvplot.image(\n",
    "    cmap=\"jet\", #Uses the jet colorway\n",
    "    tiles=\"OSM\", #Uses Open Steet Maps as the background\n",
    "    alpha=alpha,\n",
    "    title = \"ECOSTRESS Composite Image\", #Can change title of map here\n",
    "    width=fig_width_px,\n",
    "    height=fig_height_px,\n",
    "    clim=tuple(np.nanquantile(ST_composite.data, [0.02, 0.98]))\n",
    ")"
   ]
  },
  {
   "cell_type": "code",
   "execution_count": null,
   "metadata": {},
   "outputs": [],
   "source": []
  }
 ],
 "metadata": {
  "kernelspec": {
   "display_name": "ECOSTRESS",
   "language": "python",
   "name": "python3"
  },
  "language_info": {
   "codemirror_mode": {
    "name": "ipython",
    "version": 3
   },
   "file_extension": ".py",
   "mimetype": "text/x-python",
   "name": "python",
   "nbconvert_exporter": "python",
   "pygments_lexer": "ipython3",
   "version": "3.11.9"
  }
 },
 "nbformat": 4,
 "nbformat_minor": 2
}
